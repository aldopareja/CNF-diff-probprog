{
 "cells": [
  {
   "cell_type": "code",
   "execution_count": 34,
   "id": "5feb2f82-8b2b-4e95-8c06-4f345b967c45",
   "metadata": {},
   "outputs": [
    {
     "name": "stdout",
     "output_type": "stream",
     "text": [
      "The autoreload extension is already loaded. To reload it, use:\n",
      "  %reload_ext autoreload\n"
     ]
    }
   ],
   "source": [
    "%load_ext autoreload\n",
    "%autoreload 2\n",
    "from jax.random import PRNGKey, split\n",
    "from jax import numpy as jnp\n",
    "from tensorflow_probability.substrates import jax as tfp\n",
    "tfd = tfp.distributions\n",
    "from cnf import CNF\n",
    "from aritmetic_bayesian_network import bayesian_network, augmented_sample"
   ]
  },
  {
   "cell_type": "code",
   "execution_count": 29,
   "id": "f0d19659-45ee-4079-92f6-bf5d13da37f7",
   "metadata": {},
   "outputs": [],
   "source": [
    "model = CNF(\n",
    "    num_latents=10,\n",
    "    num_conds=10,\n",
    "    width_size=64,\n",
    "    num_blocks=1,\n",
    "    depth=3,\n",
    "    key=PRNGKey(5673)\n",
    ")"
   ]
  },
  {
   "cell_type": "code",
   "execution_count": 33,
   "id": "6a58ad95-b40c-450a-bdee-bf2e28ecae56",
   "metadata": {},
   "outputs": [
    {
     "data": {
      "text/plain": [
       "DeviceArray(True, dtype=bool)"
      ]
     },
     "execution_count": 33,
     "metadata": {},
     "output_type": "execute_result"
    }
   ],
   "source": [
    "jnp.isclose(5.0,4.6,rtol=0.1)"
   ]
  },
  {
   "cell_type": "code",
   "execution_count": 9,
   "id": "b39770ed-2b8d-4920-9c5b-969389885005",
   "metadata": {},
   "outputs": [],
   "source": [
    "k = PRNGKey(0)\n",
    "sks = split(k,10)\n",
    "z0 = tfd.Laplace(5,1).sample(seed=sks[0])\n",
    "z1 = tfd.Laplace(-2,1).sample(seed=sks[1])\n",
    "z2 = tfd.Normal(jnp.tanh(z0 + z1 - 2.8),0.1).sample(seed=sks[2])\n",
    "z3 = tfd.Normal(z0 * z1,0.1).sample(seed=sks[3])\n",
    "z4 = tfd.Normal(7,2).sample(seed=sks[4])\n",
    "z5 = tfd.Normal(jnp.tanh(z3 + z4),0.1).sample(seed=sks[5])\n",
    "x0 = tfd.Normal(z3,0.1).sample(seed=sks[6])\n",
    "x1 = tfd.Normal(z5,0.1).sample(seed=sks[7])\n"
   ]
  }
 ],
 "metadata": {
  "kernelspec": {
   "display_name": "Python 3 (ipykernel)",
   "language": "python",
   "name": "python3"
  },
  "language_info": {
   "codemirror_mode": {
    "name": "ipython",
    "version": 3
   },
   "file_extension": ".py",
   "mimetype": "text/x-python",
   "name": "python",
   "nbconvert_exporter": "python",
   "pygments_lexer": "ipython3",
   "version": "3.10.8"
  }
 },
 "nbformat": 4,
 "nbformat_minor": 5
}
