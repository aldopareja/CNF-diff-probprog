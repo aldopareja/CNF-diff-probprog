{
 "cells": [
  {
   "cell_type": "code",
   "execution_count": 89,
   "metadata": {},
   "outputs": [
    {
     "name": "stdout",
     "output_type": "stream",
     "text": [
      "The autoreload extension is already loaded. To reload it, use:\n",
      "  %reload_ext autoreload\n"
     ]
    }
   ],
   "source": [
    "%load_ext autoreload\n",
    "%autoreload 2\n",
    "\n",
    "from src import GP_kernels as gpk\n",
    "from jax.random import PRNGKey, split\n",
    "from jax import numpy as jnp\n",
    "import equinox as eqx\n",
    "from numpyro.handlers import trace, substitute\n",
    "from experiments.bayesian_linear_regression.bayesian_regression import bayesian_linear_regression, analytical_mean, analytical_covariance, plot_posterior, get_contours\n",
    "import numpy as np\n",
    "from tqdm.notebook import tqdm\n",
    "from scipy.stats import multivariate_normal, norm\n",
    "from tensorflow_probability.substrates import jax as tfp\n",
    "tfb = tfp.bijectors"
   ]
  },
  {
   "cell_type": "code",
   "execution_count": 90,
   "metadata": {},
   "outputs": [],
   "source": [
    "from src.utils.miscellaneous import dict_to_namedtuple\n",
    "from src.utils.trace_dataset import load_traces\n",
    "\n",
    "\n",
    "means_and_stds = load_traces(\"experiments/bayesian_reg/means_and_stds.pkl\")\n",
    "means_and_stds = dict_to_namedtuple(means_and_stds)\n",
    "\n",
    "c = gpk.GPInferenceCfg(\n",
    "d_model = 128,\n",
    "dropout_rate = 0.1,\n",
    "discrete_mlp_width = 512,\n",
    "discrete_mlp_depth=1,\n",
    "continuous_flow_blocks=8,\n",
    "continuous_flow_num_layers_per_block=2,\n",
    "continuous_flow_num_augment=91,\n",
    "num_enc_layers=5,\n",
    "max_discrete_choices =6,\n",
    "num_input_variables = (1,),\n",
    "num_observations =6,\n",
    "means_and_stds=means_and_stds,\n",
    ")\n",
    "inference = gpk.GPInference(key=PRNGKey(0),c=c)\n",
    "\n",
    "inference = eqx.tree_deserialise_leaves(\"tmp/100k_blr_0005.eqx\", inference)\n",
    "inference = eqx.tree_inference(inference, True)"
   ]
  },
  {
   "cell_type": "code",
   "execution_count": 91,
   "metadata": {},
   "outputs": [
    {
     "data": {
      "text/plain": [
       "OrderedDict([('x1',\n",
       "              {'type': 'sample',\n",
       "               'name': 'x1',\n",
       "               'fn': <numpyro.distributions.continuous.Normal at 0x7f7f047c1bb0>,\n",
       "               'args': (),\n",
       "               'kwargs': {'rng_key': Array([4059217695, 4259878488], dtype=uint32),\n",
       "                'sample_shape': ()},\n",
       "               'value': Array(2.6077514, dtype=float32),\n",
       "               'scale': None,\n",
       "               'is_observed': False,\n",
       "               'intermediates': [],\n",
       "               'cond_indep_stack': [],\n",
       "               'infer': {}}),\n",
       "             ('x2',\n",
       "              {'type': 'sample',\n",
       "               'name': 'x2',\n",
       "               'fn': <numpyro.distributions.continuous.Normal at 0x7f7f047c1640>,\n",
       "               'args': (),\n",
       "               'kwargs': {'rng_key': Array([2024437174,  248375294], dtype=uint32),\n",
       "                'sample_shape': ()},\n",
       "               'value': Array(-18.512623, dtype=float32),\n",
       "               'scale': None,\n",
       "               'is_observed': False,\n",
       "               'intermediates': [],\n",
       "               'cond_indep_stack': [],\n",
       "               'infer': {}}),\n",
       "             ('obs',\n",
       "              {'type': 'deterministic',\n",
       "               'name': 'obs',\n",
       "               'value': Array([[-16.047724 ],\n",
       "                      [-13.067943 ],\n",
       "                      [-10.714005 ],\n",
       "                      [ -8.100622 ],\n",
       "                      [ -5.4584546],\n",
       "                      [ -2.8714395]], dtype=float32)})])"
      ]
     },
     "execution_count": 91,
     "metadata": {},
     "output_type": "execute_result"
    }
   ],
   "source": [
    "sampler_ = lambda key: bayesian_linear_regression(key, 0.1, 10.0, jnp.arange(6.0)+1)\n",
    "seed = PRNGKey(88888888887)\n",
    "tr = trace(sampler_).get_trace(key=seed)\n",
    "obs = tr['obs']['value']\n",
    "tr"
   ]
  },
  {
   "cell_type": "code",
   "execution_count": 92,
   "metadata": {},
   "outputs": [
    {
     "data": {
      "application/vnd.jupyter.widget-view+json": {
       "model_id": "3de908cea1b34e0782aaa8b811efe8ea",
       "version_major": 2,
       "version_minor": 0
      },
      "text/plain": [
       "  0%|          | 0/500 [00:00<?, ?it/s]"
      ]
     },
     "metadata": {},
     "output_type": "display_data"
    }
   ],
   "source": [
    "samples = [inference.rsample(obs,sampler_,PRNGKey(i+7777843))[0] for i in tqdm(range(500))]\n"
   ]
  },
  {
   "cell_type": "code",
   "execution_count": 93,
   "metadata": {},
   "outputs": [
    {
     "data": {
      "text/plain": [
       "(array([-18.50736968,   2.60885142]),\n",
       " array([[ 0.00866588, -0.00199982],\n",
       "        [-0.00199982,  0.00057139]]),\n",
       " Array([[-16.047724 ],\n",
       "        [-13.067943 ],\n",
       "        [-10.714005 ],\n",
       "        [ -8.100622 ],\n",
       "        [ -5.4584546],\n",
       "        [ -2.8714395]], dtype=float32))"
      ]
     },
     "execution_count": 93,
     "metadata": {},
     "output_type": "execute_result"
    }
   ],
   "source": [
    "sigma = 0.1\n",
    "alpha = 10.0\n",
    "mu = analytical_mean(jnp.arange(6.0)+1, obs.reshape(-1), sigma, alpha)\n",
    "cov = analytical_covariance(jnp.arange(6.0)+1, sigma, alpha)\n",
    "mu, cov, obs"
   ]
  },
  {
   "cell_type": "code",
   "execution_count": 94,
   "metadata": {},
   "outputs": [
    {
     "data": {
      "image/png": "[encoded data removed]",
      "text/plain": [
       "<Figure size 640x480 with 2 Axes>"
      ]
     },
     "metadata": {},
     "output_type": "display_data"
    }
   ],
   "source": [
    "from matplotlib import pyplot as plt\n",
    "plot_posterior(plt, mu, cov, samples)"
   ]
  },
  {
   "cell_type": "code",
   "execution_count": null,
   "metadata": {},
   "outputs": [],
   "source": []
  }
 ],
 "metadata": {
  "kernelspec": {
   "display_name": "tfp-jax",
   "language": "python",
   "name": "python3"
  },
  "language_info": {
   "codemirror_mode": {
    "name": "ipython",
    "version": 3
   },
   "file_extension": ".py",
   "mimetype": "text/x-python",
   "name": "python",
   "nbconvert_exporter": "python",
   "pygments_lexer": "ipython3",
   "version": "3.8.16"
  },
  "orig_nbformat": 4
 },
 "nbformat": 4,
 "nbformat_minor": 2
}
