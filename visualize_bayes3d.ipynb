{
 "cells": [
  {
   "cell_type": "code",
   "execution_count": 48,
   "metadata": {},
   "outputs": [
    {
     "name": "stdout",
     "output_type": "stream",
     "text": [
      "The autoreload extension is already loaded. To reload it, use:\n",
      "  %reload_ext autoreload\n"
     ]
    }
   ],
   "source": [
    "%load_ext autoreload\n",
    "%autoreload 2\n",
    "import numpy as np\n",
    "from tqdm.notebook import tqdm\n",
    "import equinox as eqx\n",
    "from jax.random import PRNGKey, split\n",
    "from jax.tree_util import tree_map\n",
    "from jax import numpy as jnp\n",
    "from src.InferenceModel import InferenceModel, InferenceModelCfg\n",
    "from src.utils.miscellaneous import dict_to_namedtuple\n",
    "from src.utils.trace_dataset import load_traces\n",
    "from pathlib import Path\n",
    "from experiments.bayes3d.bayes3d import SceneSampler\n",
    "from numpyro.handlers import trace, substitute\n",
    "\n",
    "from src.gaussian_mixture_head import GaussianMixture, GaussianMixtureCfg\n",
    "from src.real_nvp import RealNVP_Flow, RealNVPConfig\n",
    "\n",
    "import bayes3d as j\n",
    "\n",
    "from collections import OrderedDict\n",
    "from jax import vmap, jit"
   ]
  },
  {
   "cell_type": "code",
   "execution_count": 39,
   "metadata": {},
   "outputs": [],
   "source": [
    "\n",
    "\n",
    "\n",
    "variable_metadata = load_traces(\"tmp/1M_bayes3d_metadata.pkl\")\n",
    "variable_metadata = tree_map(lambda x: jnp.array(x, dtype=np.float32), variable_metadata)\n",
    "variable_metadata = dict_to_namedtuple(variable_metadata)\n",
    "\n",
    "# gmc = GaussianMixtureCfg(\n",
    "#   resnet_mlp_width=512,\n",
    "#   d_model=128,\n",
    "#   resnet_mlp_depth=1,\n",
    "#   num_mixtures=3,\n",
    "# )\n",
    "\n",
    "# continuous_distribution = GaussianMixture(c=gmc, key=PRNGKey(13))\n",
    "\n",
    "\n",
    "continuous_distribution = RealNVP_Flow(\n",
    "    c = RealNVPConfig(\n",
    "      num_latents=1,\n",
    "      num_blocks=8,\n",
    "      num_layers_per_block=2,\n",
    "      block_hidden_size=256,\n",
    "      num_conds=256,\n",
    "      normalizer_width=512,\n",
    "      num_augments=91,\n",
    "    ),\n",
    "    key=PRNGKey(13),\n",
    "  )\n",
    "\n",
    "\n",
    "inference = InferenceModel(\n",
    "  key=PRNGKey(0),\n",
    "  c=InferenceModelCfg(\n",
    "      variable_metadata=variable_metadata,\n",
    "      d_model = 256,\n",
    "      dropout_rate = 0.0,\n",
    "      discrete_mlp_width = 512,\n",
    "      discrete_mlp_depth=1,\n",
    "      num_enc_layers=4,\n",
    "      max_discrete_choices =6,\n",
    "      num_input_variables = (1,225),\n",
    "      num_observations =100,\n",
    "    ),\n",
    "  continuous_distribution=continuous_distribution\n",
    "  )\n"
   ]
  },
  {
   "cell_type": "code",
   "execution_count": 54,
   "metadata": {},
   "outputs": [],
   "source": [
    "inference = eqx.tree_deserialise_leaves(\"tmp/1M_bayes3d_gmm_best.eqx\", inference)\n",
    "inference = eqx.tree_inference(inference, True)"
   ]
  },
  {
   "cell_type": "code",
   "execution_count": 41,
   "metadata": {},
   "outputs": [
    {
     "name": "stderr",
     "output_type": "stream",
     "text": [
      "[E rasterize_gl.cpp:121] OpenGL version reported as 4.6\n"
     ]
    },
    {
     "name": "stdout",
     "output_type": "stream",
     "text": [
      "Increasing frame buffer size to (width, height, depth) = (160, 160, 512)\n"
     ]
    },
    {
     "data": {
      "image/png": "[encoded data removed]",
      "text/plain": [
       "<PIL.Image.Image image mode=RGBA size=150x150>"
      ]
     },
     "execution_count": 41,
     "metadata": {},
     "output_type": "execute_result"
    }
   ],
   "source": [
    "sampler = SceneSampler(\n",
    "                        # mesh_paths=[Path(\"sample_objs/bunny.obj\")],\n",
    "                        mesh_paths=[Path(\"ycb_video_models/models/025_mug/textured_simple.obj\")],\n",
    "                        num_objects=1,\n",
    "                        max_pose_xy_noise=0.3,\n",
    "                        )\n",
    "sampler_no_noise = lambda key: sampler(key, noise=False)\n",
    "seed = PRNGKey(1234)\n",
    "tr = trace(sampler_no_noise).get_trace(key=seed)\n",
    "img, flattened_patches, obs = sampler_no_noise(key=seed)\n",
    "gt_img = sampler.reconsctruct_from_patches(flattened_patches, (150,150), 15)\n",
    "gt_img = j.viz.get_depth_image(gt_img)\n",
    "gt_img"
   ]
  },
  {
   "cell_type": "code",
   "execution_count": 63,
   "metadata": {},
   "outputs": [
    {
     "data": {
      "image/png": "[encoded data removed]",
      "text/plain": [
       "<PIL.Image.Image image mode=RGBA size=150x150>"
      ]
     },
     "execution_count": 63,
     "metadata": {},
     "output_type": "execute_result"
    }
   ],
   "source": [
    "tr_ = OrderedDict({k: v['value'].dtype in (jnp.int32,) for k,v in tr.items()})\n",
    "# fn = jit(lambda k: inference.rsample_static(obs, tr_, k))\n",
    "# all_samples, _, all_log_p = vmap(fn)(split(PRNGKey(7), 2000))\n",
    "\n",
    "idx = np.concatenate(all_log_p).reshape(-1).argsort()\n",
    "best = idx[-3]\n",
    "sampled_variables = tree_map(lambda x: x[best], all_samples)\n",
    "\n",
    "model_pred = substitute(sampler_no_noise, sampled_variables)\n",
    "img_, flattened_patches_, obs_ = model_pred(PRNGKey(5343))\n",
    "pred_img = sampler.reconsctruct_from_patches(flattened_patches_, (150,150), 15)\n",
    "pred_img = j.viz.get_depth_image(pred_img)\n",
    "pred_img"
   ]
  }
 ],
 "metadata": {
  "kernelspec": {
   "display_name": "tfp-jax",
   "language": "python",
   "name": "python3"
  },
  "language_info": {
   "codemirror_mode": {
    "name": "ipython",
    "version": 3
   },
   "file_extension": ".py",
   "mimetype": "text/x-python",
   "name": "python",
   "nbconvert_exporter": "python",
   "pygments_lexer": "ipython3",
   "version": "3.8.16"
  },
  "orig_nbformat": 4
 },
 "nbformat": 4,
 "nbformat_minor": 2
}
