{
 "cells": [
  {
   "cell_type": "code",
   "execution_count": 1,
   "metadata": {},
   "outputs": [],
   "source": [
    "%load_ext autoreload\n",
    "%autoreload 2\n",
    "\n",
    "from src import GP_kernels as gpk\n",
    "from jax.random import PRNGKey, split\n",
    "from jax import numpy as jnp\n",
    "import equinox as eqx\n",
    "from numpyro.handlers import trace, substitute\n",
    "from experiments.bayesian_reg.bayesian_regression import bayesian_linear_regression, analytical_mean, analytical_covariance, plot_posterior, get_contours\n",
    "import numpy as np\n",
    "from tqdm.notebook import tqdm\n",
    "from scipy.stats import multivariate_normal, norm\n",
    "from tensorflow_probability.substrates import jax as tfp\n",
    "tfb = tfp.bijectors\n",
    "\n",
    "from src.utils.trace_dataset import load_traces\n",
    "from jax.tree_util import tree_map\n",
    "from src.utils.miscellaneous import dict_to_namedtuple\n",
    "from src.diffusion_head import DiffusionHead, DiffusionConf\n",
    "from src.gaussian_mixture_head import GaussianMixture, GaussianMixtureCfg\n",
    "from src.InferenceModel import InferenceModel, InferenceModelCfg\n",
    "from src.real_nvp import RealNVP_Flow, RealNVPConfig\n"
   ]
  },
  {
   "cell_type": "code",
   "execution_count": 2,
   "metadata": {},
   "outputs": [],
   "source": [
    "variable_metadata = load_traces(\"experiments/bayesian_regression/data/metadata.pkl\")\n",
    "variable_metadata = tree_map(lambda x: jnp.array(x, dtype=np.float32), variable_metadata)\n",
    "variable_metadata = dict_to_namedtuple(variable_metadata)\n",
    "eval_traces = load_traces(\"experiments/bayesian_reg/data/test_1MM.pkl\")\n",
    "\n",
    "continuous_distribution = DiffusionHead(\n",
    "  c=DiffusionConf(\n",
    "    num_latents=1,\n",
    "    width_size=512,\n",
    "    depth=8,\n",
    "    num_conds=128,\n",
    "    num_steps=100,\n",
    "    noise_scale=0.008,\n",
    "    dropout_rate=0.1,\n",
    "    use_normalizer=False,\n",
    "  ),\n",
    "  key=PRNGKey(13),\n",
    ")\n",
    "# continuous_distribution = RealNVP_Flow(\n",
    "#   c = RealNVPConfig(\n",
    "#     num_latents=1,\n",
    "#     num_blocks=8,\n",
    "#     num_layers_per_block=2,\n",
    "#     block_hidden_size=256,\n",
    "#     num_conds=128,\n",
    "#     normalizer_width=512,\n",
    "#   ),\n",
    "#   key=PRNGKey(13),\n",
    "# )\n",
    "# gmc = GaussianMixtureCfg(\n",
    "#   resnet_mlp_width=512,\n",
    "#   d_model=256,\n",
    "#   num_mlp_blocks=3,\n",
    "#   num_mixtures=3,\n",
    "#   dropout_rate=0.0,\n",
    "# )\n",
    "\n",
    "# continuous_distribution = GaussianMixture(c=gmc, key=PRNGKey(13))\n",
    "\n",
    "inference = InferenceModel(\n",
    "    key=PRNGKey(0),\n",
    "    c=InferenceModelCfg(\n",
    "        variable_metadata=variable_metadata,\n",
    "        d_model = 128,\n",
    "        dropout_rate = 0.0,\n",
    "        discrete_mlp_width = 512,\n",
    "        discrete_mlp_depth=1,\n",
    "        num_enc_layers=4,\n",
    "        max_discrete_choices =6,\n",
    "        num_input_variables = (1,),\n",
    "        num_observations =6,\n",
    "      ),\n",
    "    continuous_distribution=continuous_distribution\n",
    "    )\n"
   ]
  },
  {
   "cell_type": "code",
   "execution_count": 3,
   "metadata": {},
   "outputs": [],
   "source": [
    "inference = eqx.tree_deserialise_leaves(\"tmp/blr_diff_drop0.0_no_norm_best.eqx\", inference)\n",
    "inference = eqx.tree_inference(inference, True)\n"
   ]
  },
  {
   "cell_type": "code",
   "execution_count": 4,
   "metadata": {},
   "outputs": [
    {
     "data": {
      "text/plain": [
       "OrderedDict([('x1',\n",
       "              {'type': 'sample',\n",
       "               'name': 'x1',\n",
       "               'fn': <numpyro.distributions.continuous.Normal at 0x7f0fb4089310>,\n",
       "               'args': (),\n",
       "               'kwargs': {'rng_key': Array([3718023120, 2344842080], dtype=uint32),\n",
       "                'sample_shape': ()},\n",
       "               'value': Array(-2.4304032, dtype=float32),\n",
       "               'scale': None,\n",
       "               'is_observed': False,\n",
       "               'intermediates': [],\n",
       "               'cond_indep_stack': [],\n",
       "               'infer': {}}),\n",
       "             ('x2',\n",
       "              {'type': 'sample',\n",
       "               'name': 'x2',\n",
       "               'fn': <numpyro.distributions.continuous.Normal at 0x7f100c092b80>,\n",
       "               'args': (),\n",
       "               'kwargs': {'rng_key': Array([1386582471, 3768030610], dtype=uint32),\n",
       "                'sample_shape': ()},\n",
       "               'value': Array(-1.651469, dtype=float32),\n",
       "               'scale': None,\n",
       "               'is_observed': False,\n",
       "               'intermediates': [],\n",
       "               'cond_indep_stack': [],\n",
       "               'infer': {}}),\n",
       "             ('obs',\n",
       "              {'type': 'deterministic',\n",
       "               'name': 'obs',\n",
       "               'value': Array([[ -4.037077 ],\n",
       "                      [ -6.6730466],\n",
       "                      [ -8.766282 ],\n",
       "                      [-11.576265 ],\n",
       "                      [-13.642409 ],\n",
       "                      [-16.269663 ]], dtype=float32)})])"
      ]
     },
     "execution_count": 4,
     "metadata": {},
     "output_type": "execute_result"
    }
   ],
   "source": [
    "sampler_ = lambda key: bayesian_linear_regression(key, 0.1, 10.0, jnp.arange(6.0)+1)\n",
    "seed = PRNGKey(888434587)\n",
    "tr = trace(sampler_).get_trace(key=seed)\n",
    "obs = tr['obs']['value']\n",
    "tr"
   ]
  },
  {
   "cell_type": "code",
   "execution_count": 5,
   "metadata": {},
   "outputs": [
    {
     "name": "stdout",
     "output_type": "stream",
     "text": [
      "x1 init\n",
      "x1 False\n",
      "x2 init\n",
      "x2 False\n",
      "obs init\n",
      "obs False\n"
     ]
    }
   ],
   "source": [
    "from collections import OrderedDict\n",
    "\n",
    "from jax import jit, vmap\n",
    "\n",
    "\n",
    "# samples = [inference.rsample(obs,sampler_,PRNGKey(i+7777843))[0] for i in tqdm(range(500))]\n",
    "tr_ = OrderedDict({k: v['value'].dtype in (jnp.int32,) for k,v in tr.items()})\n",
    "fn = jit(lambda k: inference.rsample_static(obs, tr_, k))\n",
    "samples, _, all_log_p = vmap(fn)(split(PRNGKey(0), 1000))\n"
   ]
  },
  {
   "cell_type": "code",
   "execution_count": 6,
   "metadata": {},
   "outputs": [
    {
     "data": {
      "text/plain": [
       "(array([-1.67259387, -2.42519115]),\n",
       " array([[ 0.00866588, -0.00199982],\n",
       "        [-0.00199982,  0.00057139]]),\n",
       " Array([[ -4.037077 ],\n",
       "        [ -6.6730466],\n",
       "        [ -8.766282 ],\n",
       "        [-11.576265 ],\n",
       "        [-13.642409 ],\n",
       "        [-16.269663 ]], dtype=float32))"
      ]
     },
     "execution_count": 6,
     "metadata": {},
     "output_type": "execute_result"
    }
   ],
   "source": [
    "sigma = 0.1\n",
    "alpha = 10.0\n",
    "mu = analytical_mean(jnp.arange(6.0)+1, obs.reshape(-1), sigma, alpha)\n",
    "cov = analytical_covariance(jnp.arange(6.0)+1, sigma, alpha)\n",
    "mu, cov, obs"
   ]
  },
  {
   "cell_type": "code",
   "execution_count": 9,
   "metadata": {},
   "outputs": [
    {
     "data": {
      "image/png": "[encoded data removed]",
      "text/plain": [
       "<Figure size 640x480 with 2 Axes>"
      ]
     },
     "metadata": {},
     "output_type": "display_data"
    }
   ],
   "source": [
    "from matplotlib import pyplot as plt\n",
    "plot_posterior(plt, mu, cov, samples, set_limits=True)"
   ]
  },
  {
   "cell_type": "code",
   "execution_count": null,
   "metadata": {},
   "outputs": [],
   "source": []
  }
 ],
 "metadata": {
  "kernelspec": {
   "display_name": "tfp-jax",
   "language": "python",
   "name": "python3"
  },
  "language_info": {
   "codemirror_mode": {
    "name": "ipython",
    "version": 3
   },
   "file_extension": ".py",
   "mimetype": "text/x-python",
   "name": "python",
   "nbconvert_exporter": "python",
   "pygments_lexer": "ipython3",
   "version": "3.8.16"
  },
  "orig_nbformat": 4
 },
 "nbformat": 4,
 "nbformat_minor": 2
}
