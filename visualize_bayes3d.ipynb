{
 "cells": [
  {
   "cell_type": "code",
   "execution_count": 1,
   "metadata": {},
   "outputs": [],
   "source": [
    "%load_ext autoreload\n",
    "%autoreload 2\n",
    "import numpy as np\n",
    "from tqdm.notebook import tqdm\n",
    "import equinox as eqx\n",
    "from jax.random import PRNGKey, split\n",
    "from jax.tree_util import tree_map\n",
    "from jax import numpy as jnp\n",
    "from src.InferenceModel import InferenceModel, InferenceModelCfg\n",
    "from src.utils.miscellaneous import dict_to_namedtuple\n",
    "from src.utils.trace_dataset import load_traces\n",
    "from pathlib import Path\n",
    "from experiments.bayes3d.bayes3d import SceneSampler\n",
    "from numpyro.handlers import trace, substitute\n",
    "\n",
    "from src.gaussian_mixture_head import GaussianMixture, GaussianMixtureCfg\n",
    "\n",
    "import bayes3d as j"
   ]
  },
  {
   "cell_type": "code",
   "execution_count": 2,
   "metadata": {},
   "outputs": [],
   "source": [
    "variable_metadata = load_traces(\"tmp/1M_bayes3d_metadata.pkl\")\n",
    "variable_metadata = tree_map(lambda x: jnp.array(x, dtype=np.float32), variable_metadata)\n",
    "variable_metadata = dict_to_namedtuple(variable_metadata)\n",
    "\n",
    "gmc = GaussianMixtureCfg(\n",
    "  mlp_width=512,\n",
    "  d_model=128,\n",
    "  mlp_depth=1,\n",
    "  num_mixtures=3,\n",
    ")\n",
    "\n",
    "continuous_distribution = GaussianMixture(c=gmc, key=PRNGKey(13))\n",
    "\n",
    "\n",
    "c = InferenceModelCfg(\n",
    "  variable_metadata=variable_metadata,\n",
    "  d_model = 128,\n",
    "  dropout_rate = 0.1,\n",
    "  discrete_mlp_width = 512,\n",
    "  discrete_mlp_depth=1,\n",
    "  # continuous_flow_blocks=8,\n",
    "  # continuous_flow_num_layers_per_block=2,\n",
    "  # continuous_flow_num_augment=91,\n",
    "  num_enc_layers=5,\n",
    "  max_discrete_choices =6,\n",
    "  num_input_variables = (225,1),\n",
    "  num_observations =100,\n",
    ")\n",
    "inference = InferenceModel(key=PRNGKey(0),\n",
    "                                              c=c,\n",
    "                                              continuous_distribution=continuous_distribution,)\n"
   ]
  },
  {
   "cell_type": "code",
   "execution_count": 3,
   "metadata": {},
   "outputs": [],
   "source": [
    "inference = eqx.tree_deserialise_leaves(\"tmp/1M_bayes3d_gmm_best.eqx\", inference)\n",
    "inference = eqx.tree_inference(inference, True)"
   ]
  },
  {
   "cell_type": "code",
   "execution_count": 4,
   "metadata": {},
   "outputs": [
    {
     "name": "stderr",
     "output_type": "stream",
     "text": [
      "[E rasterize_gl.cpp:121] OpenGL version reported as 4.6\n"
     ]
    },
    {
     "name": "stdout",
     "output_type": "stream",
     "text": [
      "Increasing frame buffer size to (width, height, depth) = (160, 160, 512)\n"
     ]
    },
    {
     "data": {
      "image/png": "[encoded data removed]",
      "text/plain": [
       "<PIL.Image.Image image mode=RGBA size=150x150>"
      ]
     },
     "execution_count": 4,
     "metadata": {},
     "output_type": "execute_result"
    }
   ],
   "source": [
    "sampler = SceneSampler(\n",
    "                        # mesh_paths=[Path(\"sample_objs/bunny.obj\")],\n",
    "                        mesh_paths=[Path(\"ycb_video_models/models/025_mug/textured_simple.obj\")],\n",
    "                        num_objects=1,\n",
    "                        max_pose_xy_noise=0.3,\n",
    "                        )\n",
    "sampler_no_noise = lambda key: sampler(key, noise=False)\n",
    "seed = PRNGKey(1234)\n",
    "tr = trace(sampler_no_noise).get_trace(key=seed)\n",
    "img, flattened_patches, obs = sampler_no_noise(key=seed)\n",
    "gt_img = sampler.reconsctruct_from_patches(flattened_patches, (150,150), 15)\n",
    "gt_img = j.viz.get_depth_image(gt_img)\n",
    "gt_img"
   ]
  },
  {
   "cell_type": "code",
   "execution_count": 5,
   "metadata": {},
   "outputs": [
    {
     "name": "stderr",
     "output_type": "stream",
     "text": [
      "GaussianMixture.rsample is not a reparameterized sample\n",
      "/home/aldo/miniconda3/envs/tfp-jax/lib/python3.8/site-packages/jax/_src/numpy/array_methods.py:322: FutureWarning: The arr.split() method is deprecated. Use jax.numpy.split instead.\n",
      "  warnings.warn(\n",
      "GaussianMixture.rsample is not a reparameterized sample\n",
      "GaussianMixture.rsample is not a reparameterized sample\n",
      "GaussianMixture.rsample is not a reparameterized sample\n",
      "GaussianMixture.rsample is not a reparameterized sample\n",
      "GaussianMixture.rsample is not a reparameterized sample\n"
     ]
    },
    {
     "data": {
      "text/plain": [
       "({'num_objects': Array(0, dtype=int32),\n",
       "  'type_of_object_0': Array(0, dtype=int32),\n",
       "  'pose_0_sqrt_depth': Array(1.5770917, dtype=float32),\n",
       "  'pose_0_x': Array(-0.7935951, dtype=float32),\n",
       "  'pose_0_y': Array(-1.2925174, dtype=float32),\n",
       "  'rot_0_u0': Array(0.15660945, dtype=float32),\n",
       "  'rot_0_u1': Array(0.37850577, dtype=float32),\n",
       "  'rot_0_u2': Array(0.21786034, dtype=float32)},\n",
       " OrderedDict([('num_objects',\n",
       "               {'type': 'sample',\n",
       "                'name': 'num_objects',\n",
       "                'fn': <numpyro.distributions.discrete.CategoricalProbs at 0x7f5ea819c490>,\n",
       "                'args': (),\n",
       "                'kwargs': {'rng_key': Array([1053191566, 4201901961], dtype=uint32),\n",
       "                 'sample_shape': ()},\n",
       "                'value': Array(0, dtype=int32),\n",
       "                'scale': None,\n",
       "                'is_observed': False,\n",
       "                'intermediates': [],\n",
       "                'cond_indep_stack': [],\n",
       "                'infer': {}}),\n",
       "              ('type_of_object_0',\n",
       "               {'type': 'sample',\n",
       "                'name': 'type_of_object_0',\n",
       "                'fn': <numpyro.distributions.discrete.CategoricalProbs at 0x7f5ea818fa90>,\n",
       "                'args': (),\n",
       "                'kwargs': {'rng_key': Array([4167610186, 3047815074], dtype=uint32),\n",
       "                 'sample_shape': ()},\n",
       "                'value': Array(0, dtype=int32),\n",
       "                'scale': None,\n",
       "                'is_observed': False,\n",
       "                'intermediates': [],\n",
       "                'cond_indep_stack': [],\n",
       "                'infer': {}}),\n",
       "              ('pose_0_sqrt_depth',\n",
       "               {'type': 'sample',\n",
       "                'name': 'pose_0_sqrt_depth',\n",
       "                'fn': <numpyro.distributions.continuous.Uniform at 0x7f5ea818f100>,\n",
       "                'args': (),\n",
       "                'kwargs': {'rng_key': Array([3902475624, 3258760653], dtype=uint32),\n",
       "                 'sample_shape': ()},\n",
       "                'value': Array(1.5770917, dtype=float32),\n",
       "                'scale': None,\n",
       "                'is_observed': False,\n",
       "                'intermediates': [],\n",
       "                'cond_indep_stack': [],\n",
       "                'infer': {}}),\n",
       "              ('pose_0_x',\n",
       "               {'type': 'sample',\n",
       "                'name': 'pose_0_x',\n",
       "                'fn': <numpyro.distributions.continuous.Uniform at 0x7f5ea818fcd0>,\n",
       "                'args': (),\n",
       "                'kwargs': {'rng_key': Array([  90619783, 3520722093], dtype=uint32),\n",
       "                 'sample_shape': ()},\n",
       "                'value': Array(-0.7935951, dtype=float32),\n",
       "                'scale': None,\n",
       "                'is_observed': False,\n",
       "                'intermediates': [],\n",
       "                'cond_indep_stack': [],\n",
       "                'infer': {}}),\n",
       "              ('pose_0_y',\n",
       "               {'type': 'sample',\n",
       "                'name': 'pose_0_y',\n",
       "                'fn': <numpyro.distributions.continuous.Uniform at 0x7f5ea8222790>,\n",
       "                'args': (),\n",
       "                'kwargs': {'rng_key': Array([4151662165, 2600681237], dtype=uint32),\n",
       "                 'sample_shape': ()},\n",
       "                'value': Array(-1.2925174, dtype=float32),\n",
       "                'scale': None,\n",
       "                'is_observed': False,\n",
       "                'intermediates': [],\n",
       "                'cond_indep_stack': [],\n",
       "                'infer': {}}),\n",
       "              ('rot_0_u0',\n",
       "               {'type': 'sample',\n",
       "                'name': 'rot_0_u0',\n",
       "                'fn': <numpyro.distributions.continuous.Uniform at 0x7f5ea81ffcd0>,\n",
       "                'args': (),\n",
       "                'kwargs': {'rng_key': Array([3070129513, 4020057425], dtype=uint32),\n",
       "                 'sample_shape': ()},\n",
       "                'value': Array(0.15660945, dtype=float32),\n",
       "                'scale': None,\n",
       "                'is_observed': False,\n",
       "                'intermediates': [],\n",
       "                'cond_indep_stack': [],\n",
       "                'infer': {}}),\n",
       "              ('rot_0_u1',\n",
       "               {'type': 'sample',\n",
       "                'name': 'rot_0_u1',\n",
       "                'fn': <numpyro.distributions.continuous.Uniform at 0x7f5ea820fb80>,\n",
       "                'args': (),\n",
       "                'kwargs': {'rng_key': Array([4195119435,  380913427], dtype=uint32),\n",
       "                 'sample_shape': ()},\n",
       "                'value': Array(0.37850577, dtype=float32),\n",
       "                'scale': None,\n",
       "                'is_observed': False,\n",
       "                'intermediates': [],\n",
       "                'cond_indep_stack': [],\n",
       "                'infer': {}}),\n",
       "              ('rot_0_u2',\n",
       "               {'type': 'sample',\n",
       "                'name': 'rot_0_u2',\n",
       "                'fn': <numpyro.distributions.continuous.Uniform at 0x7f5ed0075580>,\n",
       "                'args': (),\n",
       "                'kwargs': {'rng_key': Array([3845189543, 3540563905], dtype=uint32),\n",
       "                 'sample_shape': ()},\n",
       "                'value': Array(0.21786034, dtype=float32),\n",
       "                'scale': None,\n",
       "                'is_observed': False,\n",
       "                'intermediates': [],\n",
       "                'cond_indep_stack': [],\n",
       "                'infer': {}}),\n",
       "              ('obs',\n",
       "               {'type': 'sample',\n",
       "                'name': 'obs',\n",
       "                'fn': <numpyro.distributions.continuous.Normal at 0x7f5ea81c26a0>,\n",
       "                'args': (),\n",
       "                'kwargs': {'rng_key': Array([ 702282680, 2973934661], dtype=uint32),\n",
       "                 'sample_shape': ()},\n",
       "                'value': Array([[6.051769 , 6.0636373, 6.101881 , ..., 6.0141854, 5.9578447,\n",
       "                        6.0846925],\n",
       "                       [5.998868 , 6.040029 , 6.058706 , ..., 6.139992 , 6.0439277,\n",
       "                        6.0178103],\n",
       "                       [5.9320474, 6.0044546, 5.8573413, ..., 5.908639 , 5.9906073,\n",
       "                        5.9849176],\n",
       "                       ...,\n",
       "                       [6.0180893, 5.9048405, 6.009141 , ..., 6.032981 , 6.014056 ,\n",
       "                        5.853007 ],\n",
       "                       [6.0186143, 6.0067315, 6.0252776, ..., 5.9678755, 5.932202 ,\n",
       "                        5.789865 ],\n",
       "                       [6.01378  , 5.930448 , 6.0078173, ..., 5.858416 , 6.0771255,\n",
       "                        5.9584146]], dtype=float32),\n",
       "                'scale': None,\n",
       "                'is_observed': False,\n",
       "                'intermediates': [],\n",
       "                'cond_indep_stack': [],\n",
       "                'infer': {}})]),\n",
       " Array([[3.4586892]], dtype=float32))"
      ]
     },
     "execution_count": 5,
     "metadata": {},
     "output_type": "execute_result"
    }
   ],
   "source": [
    "k = split(PRNGKey(90996899),200)[134]\n",
    "inference.rsample(obs, sampler_no_noise, k)"
   ]
  },
  {
   "cell_type": "code",
   "execution_count": 19,
   "metadata": {},
   "outputs": [
    {
     "data": {
      "text/plain": [
       "{'num_objects': True,\n",
       " 'type_of_object_0': True,\n",
       " 'pose_0_sqrt_depth': False,\n",
       " 'pose_0_x': False,\n",
       " 'pose_0_y': False,\n",
       " 'rot_0_u0': False,\n",
       " 'rot_0_u1': False,\n",
       " 'rot_0_u2': False,\n",
       " 'obs': False}"
      ]
     },
     "execution_count": 19,
     "metadata": {},
     "output_type": "execute_result"
    }
   ],
   "source": [
    "\n"
   ]
  },
  {
   "cell_type": "code",
   "execution_count": 28,
   "metadata": {},
   "outputs": [
    {
     "data": {
      "text/plain": [
       "({'num_objects': Array([0, 0, 0, 0, 0, 0, 0, 0, 0, 0], dtype=int32),\n",
       "  'pose_0_sqrt_depth': Array([1.5948024, 1.5589508, 1.5902516, 1.5223716, 1.59116  , 1.5440669,\n",
       "         1.5090646, 1.5612608, 1.5701963, 1.6029242], dtype=float32),\n",
       "  'pose_0_x': Array([-1.0522547 , -0.75216126, -0.79253864, -0.8115294 , -1.0991302 ,\n",
       "         -0.83355856, -0.96975684, -1.0255651 , -1.1594746 , -0.79456234],      dtype=float32),\n",
       "  'pose_0_y': Array([-1.2197416 , -1.0521553 , -1.1967552 , -1.2704256 , -0.84916663,\n",
       "         -1.230845  , -1.4960816 , -1.2740896 , -1.039582  , -1.1334774 ],      dtype=float32),\n",
       "  'rot_0_u0': Array([0.36066422, 0.36330706, 0.85859376, 0.17023663, 0.37211436,\n",
       "         0.08047368, 0.8132412 , 0.25792724, 0.32402506, 0.67859423],      dtype=float32),\n",
       "  'rot_0_u1': Array([0.18505004, 0.8192377 , 0.76208526, 0.6364102 , 0.92524624,\n",
       "         0.8599012 , 0.9032754 , 0.9898066 , 0.8137935 , 0.8931103 ],      dtype=float32),\n",
       "  'rot_0_u2': Array([0.87195396, 0.09574854, 0.3788818 , 0.4352285 , 0.7381104 ,\n",
       "         0.48349437, 0.04316462, 0.04655825, 0.41978756, 0.47677267],      dtype=float32),\n",
       "  'type_of_object_0': Array([0, 0, 0, 0, 0, 0, 0, 0, 0, 0], dtype=int32)},\n",
       " OrderedDict([('num_objects',\n",
       "               Array([ True,  True,  True,  True,  True,  True,  True,  True,  True,\n",
       "                       True], dtype=bool)),\n",
       "              ('type_of_object_0',\n",
       "               Array([ True,  True,  True,  True,  True,  True,  True,  True,  True,\n",
       "                       True], dtype=bool)),\n",
       "              ('pose_0_sqrt_depth',\n",
       "               Array([False, False, False, False, False, False, False, False, False,\n",
       "                      False], dtype=bool)),\n",
       "              ('pose_0_x',\n",
       "               Array([False, False, False, False, False, False, False, False, False,\n",
       "                      False], dtype=bool)),\n",
       "              ('pose_0_y',\n",
       "               Array([False, False, False, False, False, False, False, False, False,\n",
       "                      False], dtype=bool)),\n",
       "              ('rot_0_u0',\n",
       "               Array([False, False, False, False, False, False, False, False, False,\n",
       "                      False], dtype=bool)),\n",
       "              ('rot_0_u1',\n",
       "               Array([False, False, False, False, False, False, False, False, False,\n",
       "                      False], dtype=bool)),\n",
       "              ('rot_0_u2',\n",
       "               Array([False, False, False, False, False, False, False, False, False,\n",
       "                      False], dtype=bool)),\n",
       "              ('obs',\n",
       "               Array([False, False, False, False, False, False, False, False, False,\n",
       "                      False], dtype=bool))]),\n",
       " Array([[[ 3.2855735 ]],\n",
       " \n",
       "        [[ 3.3661623 ]],\n",
       " \n",
       "        [[ 3.5252597 ]],\n",
       " \n",
       "        [[ 3.6108057 ]],\n",
       " \n",
       "        [[-0.26309478]],\n",
       " \n",
       "        [[ 4.283568  ]],\n",
       " \n",
       "        [[ 0.9290545 ]],\n",
       " \n",
       "        [[ 3.9040985 ]],\n",
       " \n",
       "        [[ 2.1554372 ]],\n",
       " \n",
       "        [[ 3.0254514 ]]], dtype=float32))"
      ]
     },
     "execution_count": 28,
     "metadata": {},
     "output_type": "execute_result"
    }
   ],
   "source": [
    "from collections import OrderedDict\n",
    "from jax import vmap\n",
    "\n",
    "tr_ = tree_map(lambda x: np.array(x), tr)\n",
    "\n",
    "vmap(fn)(split(PRNGKey(0), 10))\n",
    "# inference.rsample_static(obs, tr_, PRNGKey(0))"
   ]
  },
  {
   "cell_type": "code",
   "execution_count": 31,
   "metadata": {},
   "outputs": [
    {
     "data": {
      "text/plain": [
       "{'num_objects': Array(0, dtype=int32),\n",
       " 'pose_0_sqrt_depth': Array(1.5510027, dtype=float32),\n",
       " 'pose_0_x': Array(-0.84949684, dtype=float32),\n",
       " 'pose_0_y': Array(-1.0617719, dtype=float32),\n",
       " 'rot_0_u0': Array(0.02857557, dtype=float32),\n",
       " 'rot_0_u1': Array(0.17887211, dtype=float32),\n",
       " 'rot_0_u2': Array(0.34474802, dtype=float32),\n",
       " 'type_of_object_0': Array(0, dtype=int32)}"
      ]
     },
     "execution_count": 31,
     "metadata": {},
     "output_type": "execute_result"
    }
   ],
   "source": [
    "tree_map(lambda x: x[10], all_samples)"
   ]
  },
  {
   "cell_type": "code",
   "execution_count": 36,
   "metadata": {},
   "outputs": [
    {
     "data": {
      "image/png": "[encoded data removed]",
      "text/plain": [
       "<PIL.Image.Image image mode=RGBA size=150x150>"
      ]
     },
     "execution_count": 36,
     "metadata": {},
     "output_type": "execute_result"
    }
   ],
   "source": [
    "tr_ = OrderedDict({k: v['value'].dtype in (jnp.int32,) for k,v in tr.items()})\n",
    "fn = lambda k: inference.rsample_static(obs, tr_, k)\n",
    "all_samples, _, all_log_p = vmap(fn)(split(PRNGKey(2), 1000))\n",
    "\n",
    "idx = np.concatenate(all_log_p).reshape(-1).argsort()\n",
    "best = idx[-1]\n",
    "sampled_variables = tree_map(lambda x: x[best], all_samples)\n",
    "\n",
    "model_pred = substitute(sampler_no_noise, sampled_variables)\n",
    "img_, flattened_patches_, obs_ = model_pred(PRNGKey(5343))\n",
    "pred_img = sampler.reconsctruct_from_patches(flattened_patches_, (150,150), 15)\n",
    "pred_img = j.viz.get_depth_image(pred_img)\n",
    "pred_img"
   ]
  }
 ],
 "metadata": {
  "kernelspec": {
   "display_name": "tfp-jax",
   "language": "python",
   "name": "python3"
  },
  "language_info": {
   "codemirror_mode": {
    "name": "ipython",
    "version": 3
   },
   "file_extension": ".py",
   "mimetype": "text/x-python",
   "name": "python",
   "nbconvert_exporter": "python",
   "pygments_lexer": "ipython3",
   "version": "3.8.16"
  },
  "orig_nbformat": 4
 },
 "nbformat": 4,
 "nbformat_minor": 2
}
