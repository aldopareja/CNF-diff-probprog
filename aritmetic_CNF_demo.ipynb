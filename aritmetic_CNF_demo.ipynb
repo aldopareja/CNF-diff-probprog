{
 "cells": [
  {
   "cell_type": "code",
   "execution_count": 38,
   "id": "5feb2f82-8b2b-4e95-8c06-4f345b967c45",
   "metadata": {},
   "outputs": [
    {
     "name": "stdout",
     "output_type": "stream",
     "text": [
      "The autoreload extension is already loaded. To reload it, use:\n",
      "  %reload_ext autoreload\n"
     ]
    }
   ],
   "source": [
    "%load_ext autoreload\n",
    "%autoreload 2\n",
    "import jax\n",
    "from jax.random import split, PRNGKey, normal\n",
    "from jax import vmap\n",
    "from jax import numpy as jnp\n",
    "from aritmetic_bayesian_network import bayesian_network, InferenceForBayesianNetwork\n",
    "from train_aritmetic_bayesian_network import initialize_model\n",
    "import seaborn as sns\n",
    "from matplotlib import pyplot as plt\n",
    "import pandas as pd\n",
    "import numpy as onp\n",
    "import equinox as eqx\n",
    "from tensorflow_probability.substrates import jax as tfp\n",
    "tfd = tfp.distributions"
   ]
  },
  {
   "cell_type": "code",
   "execution_count": 39,
   "id": "c5863075-ee62-4145-b1bd-75fa80ba9a94",
   "metadata": {},
   "outputs": [],
   "source": [
    "  def sample_obs(means, class_label, k):\n",
    "    # means = jnp.stack([jnp.arange(3)]*2,axis=1)/3\n",
    "    # return tfd.MultivariateNormalDiag(\n",
    "    #   loc = means[class_label],\n",
    "    #   scale_diag=jnp.ones_like(means[class_label])/10.0\n",
    "    # ).sample(seed=k)\n",
    "    means = jnp.arange(3)/3\n",
    "    return (normal(k)/10.0 + means[class_label])[None]\n",
    "    \n",
    "    # return jnp.stack([class_label,class_label],dtype=jnp.float32)\n",
    "  \n",
    "  def sample(k, *, max_num_mixtures=3, dims=2, num_obs=100):\n",
    "    ks = split(k, 5)\n",
    "    num_mixtures = tfd.Categorical(\n",
    "        probs=jnp.ones((max_num_mixtures,)) / max_num_mixtures\n",
    "    ).sample(seed=ks[0])\n",
    "    \n",
    "    means = tfd.Uniform(low=-1.0, high=1.0).sample(\n",
    "        seed=ks[1], sample_shape=(max_num_mixtures, dims)\n",
    "    )\n",
    "    \n",
    "    class_labels_probs = jnp.where(\n",
    "        jnp.arange(max_num_mixtures) <= num_mixtures,\n",
    "        jnp.ones((max_num_mixtures,)),\n",
    "        jnp.zeros((max_num_mixtures,)),\n",
    "    )/(num_mixtures+1)\n",
    "    \n",
    "    class_labels = tfd.Categorical(probs=class_labels_probs).sample(\n",
    "        seed=ks[3], sample_shape=(num_obs,)\n",
    "    )\n",
    "    \n",
    "    obs = jax.vmap(sample_obs, in_axes=(None,None,0))(\n",
    "      means,num_mixtures,split(ks[4],num_obs)\n",
    "    )\n",
    "    \n",
    "    return obs, num_mixtures"
   ]
  },
  {
   "cell_type": "code",
   "execution_count": 40,
   "id": "bc03f17e-0da0-4798-b76d-c4df90daa8f5",
   "metadata": {},
   "outputs": [],
   "source": [
    "test_obs, test_b = jax.vmap(sample)(split(PRNGKey(5847),1000))"
   ]
  },
  {
   "cell_type": "code",
   "execution_count": 52,
   "id": "19ce1a79-99ec-4fa1-be0f-78187cf6891b",
   "metadata": {},
   "outputs": [
    {
     "data": {
      "text/plain": [
       "(1000, 100, 1)"
      ]
     },
     "execution_count": 52,
     "metadata": {},
     "output_type": "execute_result"
    }
   ],
   "source": [
    "test_obs.shape"
   ]
  },
  {
   "cell_type": "code",
   "execution_count": 47,
   "id": "10f6ee07-8446-4130-b52f-b1b5f8804664",
   "metadata": {},
   "outputs": [],
   "source": [
    "obs_size = 100\n",
    "def sample(k,*, max_num_mixtures=6):\n",
    "    \"\"\"sample a bernoulli and then sample the normal based on the value of the bernoulli.\n",
    "    Augment the flow with standard normals to make it easier to learn.\n",
    "    \"\"\"\n",
    "    ks = split(k, 3)\n",
    "    # b = bernoulli(ks[0], 0.5)\n",
    "    b = tfd.Categorical(\n",
    "        probs=jnp.ones((max_num_mixtures,)) / max_num_mixtures\n",
    "    ).sample(seed=ks[0])\n",
    "    s = normal(ks[1],shape=(obs_size,1))\n",
    "    s /= 10.0\n",
    "    s += jnp.arange(max_num_mixtures)[b]/max_num_mixtures\n",
    "    return s, jnp.int32(b)"
   ]
  },
  {
   "cell_type": "code",
   "execution_count": 51,
   "id": "6b714084-f6ac-4fd7-ad2c-b486abdf5ee0",
   "metadata": {},
   "outputs": [
    {
     "data": {
      "text/plain": [
       "(200, 100, 1)"
      ]
     },
     "execution_count": 51,
     "metadata": {},
     "output_type": "execute_result"
    }
   ],
   "source": [
    "vmap(sample)(split(PRNGKey(0),200))[0].shape"
   ]
  },
  {
   "cell_type": "code",
   "execution_count": 138,
   "id": "a499ba8e-05c5-4d58-947c-be304253a663",
   "metadata": {},
   "outputs": [],
   "source": [
    "k = PRNGKey(2)\n",
    "obs_size = 100\n",
    "max_num_mixtures = 6\n",
    "dims = 2\n",
    "ks = split(k, 4)\n",
    "b = tfd.Categorical(\n",
    "    probs=jnp.ones((max_num_mixtures,)) / max_num_mixtures\n",
    ").sample(seed=ks[0])\n",
    "means = tfd.Uniform(low=-1.0, high=1.0).sample(\n",
    "    seed=ks[1], sample_shape=(max_num_mixtures, dims)\n",
    ")\n",
    "means = jnp.stack([jnp.arange(max_num_mixtures)]*dims,axis=1)/max_num_mixtures\n",
    "# means = jax.random.shuffle(ks[3],means,axis=0)\n",
    "\n",
    "class_labels_probs = jnp.where(\n",
    "    jnp.arange(max_num_mixtures) < b,\n",
    "    jnp.ones((max_num_mixtures,)),\n",
    "    jnp.zeros((max_num_mixtures,)),\n",
    ")\n",
    "\n",
    "class_labels = tfd.Categorical(probs=class_labels_probs).sample(\n",
    "    seed=ks[3], sample_shape=(obs_size,)\n",
    ")\n",
    "s = normal(ks[2],shape=(obs_size,dims))\n",
    "s /= 10.0\n",
    "\n",
    "mean = (jnp.stack([jnp.arange(max_num_mixtures)]*dims,axis=1)/max_num_mixtures)[class_labels].reshape(-1,dims)\n",
    "\n",
    "s+=mean"
   ]
  },
  {
   "cell_type": "code",
   "execution_count": 140,
   "id": "b529f89c-4fd8-4dcd-860f-373adad1b96f",
   "metadata": {},
   "outputs": [
    {
     "data": {
      "text/plain": [
       "Array([[0.16666667, 0.16666667],\n",
       "       [0.33333334, 0.33333334],\n",
       "       [0.5       , 0.5       ],\n",
       "       [0.        , 0.        ],\n",
       "       [0.6666667 , 0.6666667 ],\n",
       "       [0.        , 0.        ],\n",
       "       [0.6666667 , 0.6666667 ],\n",
       "       [0.        , 0.        ],\n",
       "       [0.        , 0.        ],\n",
       "       [0.33333334, 0.33333334],\n",
       "       [0.        , 0.        ],\n",
       "       [0.16666667, 0.16666667],\n",
       "       [0.        , 0.        ],\n",
       "       [0.33333334, 0.33333334],\n",
       "       [0.33333334, 0.33333334],\n",
       "       [0.33333334, 0.33333334],\n",
       "       [0.6666667 , 0.6666667 ],\n",
       "       [0.5       , 0.5       ],\n",
       "       [0.33333334, 0.33333334],\n",
       "       [0.16666667, 0.16666667],\n",
       "       [0.16666667, 0.16666667],\n",
       "       [0.6666667 , 0.6666667 ],\n",
       "       [0.16666667, 0.16666667],\n",
       "       [0.6666667 , 0.6666667 ],\n",
       "       [0.        , 0.        ],\n",
       "       [0.6666667 , 0.6666667 ],\n",
       "       [0.6666667 , 0.6666667 ],\n",
       "       [0.        , 0.        ],\n",
       "       [0.        , 0.        ],\n",
       "       [0.6666667 , 0.6666667 ],\n",
       "       [0.6666667 , 0.6666667 ],\n",
       "       [0.16666667, 0.16666667],\n",
       "       [0.33333334, 0.33333334],\n",
       "       [0.16666667, 0.16666667],\n",
       "       [0.        , 0.        ],\n",
       "       [0.6666667 , 0.6666667 ],\n",
       "       [0.16666667, 0.16666667],\n",
       "       [0.16666667, 0.16666667],\n",
       "       [0.6666667 , 0.6666667 ],\n",
       "       [0.16666667, 0.16666667],\n",
       "       [0.5       , 0.5       ],\n",
       "       [0.        , 0.        ],\n",
       "       [0.16666667, 0.16666667],\n",
       "       [0.5       , 0.5       ],\n",
       "       [0.6666667 , 0.6666667 ],\n",
       "       [0.        , 0.        ],\n",
       "       [0.5       , 0.5       ],\n",
       "       [0.33333334, 0.33333334],\n",
       "       [0.        , 0.        ],\n",
       "       [0.16666667, 0.16666667],\n",
       "       [0.33333334, 0.33333334],\n",
       "       [0.        , 0.        ],\n",
       "       [0.33333334, 0.33333334],\n",
       "       [0.33333334, 0.33333334],\n",
       "       [0.33333334, 0.33333334],\n",
       "       [0.        , 0.        ],\n",
       "       [0.        , 0.        ],\n",
       "       [0.16666667, 0.16666667],\n",
       "       [0.16666667, 0.16666667],\n",
       "       [0.33333334, 0.33333334],\n",
       "       [0.33333334, 0.33333334],\n",
       "       [0.5       , 0.5       ],\n",
       "       [0.5       , 0.5       ],\n",
       "       [0.33333334, 0.33333334],\n",
       "       [0.33333334, 0.33333334],\n",
       "       [0.6666667 , 0.6666667 ],\n",
       "       [0.33333334, 0.33333334],\n",
       "       [0.        , 0.        ],\n",
       "       [0.5       , 0.5       ],\n",
       "       [0.        , 0.        ],\n",
       "       [0.        , 0.        ],\n",
       "       [0.33333334, 0.33333334],\n",
       "       [0.33333334, 0.33333334],\n",
       "       [0.6666667 , 0.6666667 ],\n",
       "       [0.        , 0.        ],\n",
       "       [0.33333334, 0.33333334],\n",
       "       [0.6666667 , 0.6666667 ],\n",
       "       [0.5       , 0.5       ],\n",
       "       [0.16666667, 0.16666667],\n",
       "       [0.        , 0.        ],\n",
       "       [0.5       , 0.5       ],\n",
       "       [0.6666667 , 0.6666667 ],\n",
       "       [0.        , 0.        ],\n",
       "       [0.16666667, 0.16666667],\n",
       "       [0.16666667, 0.16666667],\n",
       "       [0.16666667, 0.16666667],\n",
       "       [0.33333334, 0.33333334],\n",
       "       [0.16666667, 0.16666667],\n",
       "       [0.6666667 , 0.6666667 ],\n",
       "       [0.        , 0.        ],\n",
       "       [0.16666667, 0.16666667],\n",
       "       [0.16666667, 0.16666667],\n",
       "       [0.        , 0.        ],\n",
       "       [0.5       , 0.5       ],\n",
       "       [0.6666667 , 0.6666667 ],\n",
       "       [0.        , 0.        ],\n",
       "       [0.16666667, 0.16666667],\n",
       "       [0.        , 0.        ],\n",
       "       [0.6666667 , 0.6666667 ],\n",
       "       [0.16666667, 0.16666667]], dtype=float32)"
      ]
     },
     "execution_count": 140,
     "metadata": {},
     "output_type": "execute_result"
    }
   ],
   "source": [
    "mean"
   ]
  },
  {
   "cell_type": "code",
   "execution_count": 135,
   "id": "eca28ab0-8f41-441f-a3c9-2e03838cf22c",
   "metadata": {},
   "outputs": [
    {
     "data": {
      "text/plain": [
       "(100, 2)"
      ]
     },
     "execution_count": 135,
     "metadata": {},
     "output_type": "execute_result"
    }
   ],
   "source": []
  },
  {
   "cell_type": "code",
   "execution_count": 100,
   "id": "e5e4e334-4d85-4876-b816-ada3300bde9d",
   "metadata": {},
   "outputs": [
    {
     "data": {
      "text/plain": [
       "Array(0.33733204, dtype=float32)"
      ]
     },
     "execution_count": 100,
     "metadata": {},
     "output_type": "execute_result"
    }
   ],
   "source": [
    "obs_size = 100\n",
    "ks = split(k, 3)\n",
    "# b = bernoulli(ks[0], 0.5)\n",
    "b = tfd.Categorical(\n",
    "    probs=jnp.ones((max_num_mixtures,)) / max_num_mixtures\n",
    ").sample(seed=ks[0])\n",
    "s = normal(ks[1],shape=(obs_size,1))\n",
    "s /= 10.0\n",
    "s += jnp.arange(max_num_mixtures)[b]/max_num_mixtures\n",
    "s.mean()"
   ]
  },
  {
   "cell_type": "code",
   "execution_count": 101,
   "id": "337e3cab-81c5-40b5-9133-2167aef4172c",
   "metadata": {},
   "outputs": [
    {
     "data": {
      "text/plain": [
       "(Array(2, dtype=int32), Array([2], dtype=int32), Array(2, dtype=int32))"
      ]
     },
     "execution_count": 101,
     "metadata": {},
     "output_type": "execute_result"
    }
   ],
   "source": [
    "jnp.arange(max_num_mixtures)[b], jnp.stack([jnp.arange(max_num_mixtures)]*dims,axis=1)[b], b"
   ]
  },
  {
   "cell_type": "code",
   "execution_count": 67,
   "id": "f0d19659-45ee-4079-92f6-bf5d13da37f7",
   "metadata": {},
   "outputs": [],
   "source": [
    "m_cfg = dict(\n",
    "    key = PRNGKey(0),\n",
    "    num_augments = 9,\n",
    "    width_size = 128,\n",
    "    num_blocks = 1,\n",
    "    depth = 3,\n",
    ")\n",
    "m = initialize_model(\n",
    "    model_cfg=m_cfg,\n",
    "    load_idx=0,\n",
    "    chkpt_folder=\"aritmetic_bayesian_chkpts/\",\n",
    ")"
   ]
  },
  {
   "cell_type": "code",
   "execution_count": 68,
   "id": "6a58ad95-b40c-450a-bdee-bf2e28ecae56",
   "metadata": {},
   "outputs": [],
   "source": [
    "ks = split(PRNGKey(5327),20000)\n",
    "*all_z_batches, x0_b, x1_b = vmap(bayesian_network)(ks[:10000])\n",
    "all_z_batches_hat = vmap(m.rsample)(x0_b,x1_b,ks[10000:])"
   ]
  },
  {
   "cell_type": "code",
   "execution_count": 69,
   "id": "43692dcc-5203-4912-94d7-83f21e0cb65d",
   "metadata": {},
   "outputs": [
    {
     "data": {
      "image/png": "[encoded data removed]",
      "text/plain": [
       "<Figure size 1000x500 with 6 Axes>"
      ]
     },
     "metadata": {},
     "output_type": "display_data"
    }
   ],
   "source": [
    "fig, axs = plt.subplots(2,3, figsize=(10,5))\n",
    "for i,(z,z_) in enumerate(zip(all_z_batches,all_z_batches_hat)):\n",
    "    col = i % 3\n",
    "    row = 0 if i <= 2 else 1\n",
    "    _ ,bins, _ = axs[row,col].hist(onp.array(z), bins = 80, alpha=0.5, label='joint')\n",
    "    _ = axs[row,col].hist(onp.array(z_), bins = bins, alpha=0.5, color='red', label='inferred')\n",
    "    axs[row,col].legend()\n",
    "\n"
   ]
  },
  {
   "cell_type": "code",
   "execution_count": 74,
   "id": "2843861c-7219-474f-ab59-938998ae5ac6",
   "metadata": {},
   "outputs": [],
   "source": [
    "@eqx.filter_jit\n",
    "def threshold(T,u):\n",
    "    return T - jnp.log(1+jnp.exp(T-u))"
   ]
  },
  {
   "cell_type": "code",
   "execution_count": 2,
   "id": "e778d23f-56b5-4767-8cc5-9629e6d20da9",
   "metadata": {},
   "outputs": [
    {
     "name": "stdout",
     "output_type": "stream",
     "text": [
      "The autoreload extension is already loaded. To reload it, use:\n",
      "  %reload_ext autoreload\n"
     ]
    }
   ],
   "source": [
    "%load_ext autoreload\n",
    "%autoreload 2\n",
    "from gaussian_mixture import gaussian_mixture, InferenceGaussianMixture\n",
    "from train_gaussian_mixture import evaluate, initialize_optim, make_step\n",
    "from utils import AttrDict"
   ]
  },
  {
   "cell_type": "code",
   "execution_count": 15,
   "id": "13732480-ea16-44cb-8b8b-c4209122f4bd",
   "metadata": {},
   "outputs": [],
   "source": [
    "num_mixtures, means, cov_terms, class_labels, obs = vmap(gaussian_mixture)(split(PRNGKey(6),10))"
   ]
  },
  {
   "cell_type": "code",
   "execution_count": 4,
   "id": "c7fc6927-cdd3-4cc6-ab5c-f9f4a219618e",
   "metadata": {},
   "outputs": [
    {
     "ename": "NameError",
     "evalue": "name 'optim' is not defined",
     "output_type": "error",
     "traceback": [
      "\u001b[0;31m---------------------------------------------------------------------------\u001b[0m",
      "\u001b[0;31mNameError\u001b[0m                                 Traceback (most recent call last)",
      "Cell \u001b[0;32mIn[4], line 12\u001b[0m\n\u001b[1;32m      2\u001b[0m opt_c \u001b[38;5;241m=\u001b[39m AttrDict(\n\u001b[1;32m      3\u001b[0m         max_lr\u001b[38;5;241m=\u001b[39m\u001b[38;5;241m0.01\u001b[39m,\n\u001b[1;32m      4\u001b[0m         num_steps\u001b[38;5;241m=\u001b[39m\u001b[38;5;28mint\u001b[39m(\u001b[38;5;241m10000\u001b[39m),\n\u001b[0;32m   (...)\u001b[0m\n\u001b[1;32m      9\u001b[0m         gradient_clipping\u001b[38;5;241m=\u001b[39m\u001b[38;5;241m5.0\u001b[39m,\n\u001b[1;32m     10\u001b[0m     )\n\u001b[1;32m     11\u001b[0m optim, opt_state \u001b[38;5;241m=\u001b[39m initialize_optim(opt_c, m)\n\u001b[0;32m---> 12\u001b[0m l, m, opt_state, k, norm \u001b[38;5;241m=\u001b[39m \u001b[43mmake_step\u001b[49m\u001b[43m(\u001b[49m\u001b[43mm\u001b[49m\u001b[43m,\u001b[49m\u001b[43m \u001b[49m\u001b[43mopt_state\u001b[49m\u001b[43m,\u001b[49m\u001b[43m \u001b[49m\u001b[43mPRNGKey\u001b[49m\u001b[43m(\u001b[49m\u001b[38;5;241;43m4\u001b[39;49m\u001b[43m)\u001b[49m\u001b[43m,\u001b[49m\u001b[43m \u001b[49m\u001b[38;5;241;43m10\u001b[39;49m\u001b[43m)\u001b[49m\n",
      "File \u001b[0;32m~/miniconda3/envs/tfp-jax/lib/python3.10/site-packages/equinox/jit.py:82\u001b[0m, in \u001b[0;36m_JitWrapper.__call__\u001b[0;34m(_JitWrapper__self, *args, **kwargs)\u001b[0m\n\u001b[1;32m     81\u001b[0m \u001b[38;5;28;01mdef\u001b[39;00m \u001b[38;5;21m__call__\u001b[39m(__self, \u001b[38;5;241m*\u001b[39margs, \u001b[38;5;241m*\u001b[39m\u001b[38;5;241m*\u001b[39mkwargs):\n\u001b[0;32m---> 82\u001b[0m     \u001b[38;5;28;01mreturn\u001b[39;00m \u001b[43m__self\u001b[49m\u001b[38;5;241;43m.\u001b[39;49m\u001b[43m_fun_wrapper\u001b[49m\u001b[43m(\u001b[49m\u001b[38;5;28;43;01mFalse\u001b[39;49;00m\u001b[43m,\u001b[49m\u001b[43m \u001b[49m\u001b[43margs\u001b[49m\u001b[43m,\u001b[49m\u001b[43m \u001b[49m\u001b[43mkwargs\u001b[49m\u001b[43m)\u001b[49m\n",
      "File \u001b[0;32m~/miniconda3/envs/tfp-jax/lib/python3.10/site-packages/equinox/jit.py:78\u001b[0m, in \u001b[0;36m_JitWrapper._fun_wrapper\u001b[0;34m(self, is_lower, args, kwargs)\u001b[0m\n\u001b[1;32m     76\u001b[0m     \u001b[38;5;28;01mreturn\u001b[39;00m \u001b[38;5;28mself\u001b[39m\u001b[38;5;241m.\u001b[39m_cached\u001b[38;5;241m.\u001b[39mlower(dynamic, static)\n\u001b[1;32m     77\u001b[0m \u001b[38;5;28;01melse\u001b[39;00m:\n\u001b[0;32m---> 78\u001b[0m     dynamic_out, static_out \u001b[38;5;241m=\u001b[39m \u001b[38;5;28;43mself\u001b[39;49m\u001b[38;5;241;43m.\u001b[39;49m\u001b[43m_cached\u001b[49m\u001b[43m(\u001b[49m\u001b[43mdynamic\u001b[49m\u001b[43m,\u001b[49m\u001b[43m \u001b[49m\u001b[43mstatic\u001b[49m\u001b[43m)\u001b[49m\n\u001b[1;32m     79\u001b[0m     \u001b[38;5;28;01mreturn\u001b[39;00m combine(dynamic_out, static_out\u001b[38;5;241m.\u001b[39mvalue)\n",
      "    \u001b[0;31m[... skipping hidden 12 frame]\u001b[0m\n",
      "File \u001b[0;32m~/miniconda3/envs/tfp-jax/lib/python3.10/site-packages/equinox/jit.py:30\u001b[0m, in \u001b[0;36m_filter_jit_cache.<locals>.fun_wrapped\u001b[0;34m(dynamic, static)\u001b[0m\n\u001b[1;32m     28\u001b[0m fun \u001b[38;5;241m=\u001b[39m hashable_combine(dynamic_fun, static_fun)\n\u001b[1;32m     29\u001b[0m args, kwargs \u001b[38;5;241m=\u001b[39m hashable_combine(dynamic_spec, static_spec)\n\u001b[0;32m---> 30\u001b[0m out \u001b[38;5;241m=\u001b[39m \u001b[43mfun\u001b[49m\u001b[43m(\u001b[49m\u001b[38;5;241;43m*\u001b[39;49m\u001b[43margs\u001b[49m\u001b[43m,\u001b[49m\u001b[43m \u001b[49m\u001b[38;5;241;43m*\u001b[39;49m\u001b[38;5;241;43m*\u001b[39;49m\u001b[43mkwargs\u001b[49m\u001b[43m)\u001b[49m\n\u001b[1;32m     31\u001b[0m dynamic_out, static_out \u001b[38;5;241m=\u001b[39m partition(out, filter_out)\n\u001b[1;32m     32\u001b[0m \u001b[38;5;28;01mreturn\u001b[39;00m dynamic_out, Static(static_out)\n",
      "File \u001b[0;32m~/CNF-diff-probprog/train_gaussian_mixture.py:76\u001b[0m, in \u001b[0;36mmake_step\u001b[0;34m(model, opt_state, key, batch_size)\u001b[0m\n\u001b[1;32m     74\u001b[0m s_batch \u001b[38;5;241m=\u001b[39m vmap(gaussian_mixture)(ks[: batch_size])\n\u001b[1;32m     75\u001b[0m l, grads \u001b[38;5;241m=\u001b[39m loss(model, s_batch, ks[\u001b[38;5;241m-\u001b[39m\u001b[38;5;241m2\u001b[39m])\n\u001b[0;32m---> 76\u001b[0m updates, opt_state \u001b[38;5;241m=\u001b[39m \u001b[43moptim\u001b[49m\u001b[38;5;241m.\u001b[39mupdate(grads, opt_state, model)\n\u001b[1;32m     77\u001b[0m model \u001b[38;5;241m=\u001b[39m eqx\u001b[38;5;241m.\u001b[39mapply_updates(model, updates)\n\u001b[1;32m     78\u001b[0m norm \u001b[38;5;241m=\u001b[39m jnp\u001b[38;5;241m.\u001b[39mlinalg\u001b[38;5;241m.\u001b[39mnorm(\n\u001b[1;32m     79\u001b[0m     jax\u001b[38;5;241m.\u001b[39mflatten_util\u001b[38;5;241m.\u001b[39mravel_pytree(eqx\u001b[38;5;241m.\u001b[39mfilter(model, eqx\u001b[38;5;241m.\u001b[39mis_inexact_array))[\u001b[38;5;241m0\u001b[39m]\n\u001b[1;32m     80\u001b[0m )\n",
      "\u001b[0;31mNameError\u001b[0m: name 'optim' is not defined"
     ]
    }
   ],
   "source": [
    "m = InferenceGaussianMixture(key=PRNGKey(1))\n",
    "opt_c = AttrDict(\n",
    "        max_lr=0.01,\n",
    "        num_steps=int(10000),\n",
    "        pct_start=0.01,\n",
    "        div_factor=1e1,\n",
    "        final_div_factor=1e1,\n",
    "        weight_decay=0.0005,\n",
    "        gradient_clipping=5.0,\n",
    "    )\n",
    "optim, opt_state = initialize_optim(opt_c, m)\n",
    "l, m, opt_state, k, norm = make_step(m, opt_state, PRNGKey(4), 10)\n"
   ]
  },
  {
   "cell_type": "code",
   "execution_count": 5,
   "id": "0156d58e-003e-437c-ab97-241e81828d7a",
   "metadata": {},
   "outputs": [],
   "source": [
    "m = eqx.tree_inference(m, value=True)\n",
    "log = evaluate(m, PRNGKey(0), 10)\n",
    "m = eqx.tree_inference(m, value=False)"
   ]
  },
  {
   "cell_type": "code",
   "execution_count": 6,
   "id": "8db31d68-8529-4cbf-8d39-5b22a6b6d662",
   "metadata": {},
   "outputs": [
    {
     "data": {
      "text/plain": [
       "{'fit_covs': 0.5242633819580078,\n",
       " 'fit_means': 0.46661925315856934,\n",
       " 'fit_num_mixtures': 0.10000000149011612}"
      ]
     },
     "execution_count": 6,
     "metadata": {},
     "output_type": "execute_result"
    }
   ],
   "source": [
    "jax.tree_util.tree_map(lambda x: x.item(), log)"
   ]
  },
  {
   "cell_type": "code",
   "execution_count": 19,
   "id": "fd1b38e4-98b6-4872-a4ab-dc90ffa7c1ab",
   "metadata": {},
   "outputs": [],
   "source": [
    "x = cov_terms[0]\n",
    "x_hat = cov_terms_hat[0]\n",
    "num_mixtures = num_mixtures[0]\n"
   ]
  },
  {
   "cell_type": "code",
   "execution_count": 27,
   "id": "55cf5f54-a6aa-48ff-b950-dd6570a3df61",
   "metadata": {},
   "outputs": [
    {
     "data": {
      "text/plain": [
       "(Array(3.4896898, dtype=float32),\n",
       " Array([2.0948033, 1.3948865, 2.4763658, 2.0054665, 3.584384 , 5.116962 ],      dtype=float32))"
      ]
     },
     "execution_count": 27,
     "metadata": {},
     "output_type": "execute_result"
    }
   ],
   "source": [
    "jnp.arange(6) < num_mixtures\n",
    "abs_dist = jnp.where(\n",
    "        jnp.arange(6) < num_mixtures, jnp.abs(x - x_hat).sum(axis=1), 0.0\n",
    "    ).sum()\n",
    "abs_dist,jnp.abs(x - x_hat).sum(axis=1)"
   ]
  }
 ],
 "metadata": {
  "kernelspec": {
   "display_name": "Python 3 (ipykernel)",
   "language": "python",
   "name": "python3"
  },
  "language_info": {
   "codemirror_mode": {
    "name": "ipython",
    "version": 3
   },
   "file_extension": ".py",
   "mimetype": "text/x-python",
   "name": "python",
   "nbconvert_exporter": "python",
   "pygments_lexer": "ipython3",
   "version": "3.10.8"
  }
 },
 "nbformat": 4,
 "nbformat_minor": 5
}
